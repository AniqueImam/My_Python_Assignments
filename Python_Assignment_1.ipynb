{
 "cells": [
  {
   "cell_type": "markdown",
   "metadata": {},
   "source": [
    "# (Roll_no:PY00532) Muhammad_Anique_Imam\n"
   ]
  },
  {
   "cell_type": "markdown",
   "metadata": {},
   "source": [
    " Python Batch-2 Assignment#1"
   ]
  },
  {
   "cell_type": "code",
   "execution_count": 20,
   "metadata": {},
   "outputs": [
    {
     "name": "stdout",
     "output_type": "stream",
     "text": [
      "Twinkle, Twinkle, little star,\n",
      "      How I wonder what you are!\n",
      "            Up above the world so high,\n",
      "            Like a diamond in the sky.\n",
      "Twinkle, Twinkle, little star,\n",
      "      How I wonder what you are\n"
     ]
    }
   ],
   "source": [
    "#Task_01\n",
    "print (\"Twinkle, Twinkle, little star,\")\n",
    "print (\"      How I wonder what you are!\")\n",
    "print (\"            Up above the world so high,\")\n",
    "print (\"            Like a diamond in the sky.\")\n",
    "print (\"Twinkle, Twinkle, little star,\")\n",
    "print (\"      How I wonder what you are\")"
   ]
  },
  {
   "cell_type": "code",
   "execution_count": 3,
   "metadata": {},
   "outputs": [
    {
     "name": "stdout",
     "output_type": "stream",
     "text": [
      "Python version:\n",
      "3.6.5 |Anaconda, Inc.| (default, Mar 29 2018, 13:32:41) [MSC v.1900 64 bit (AMD64)]\n",
      "Version information.\n",
      "sys.version_info(major=3, minor=6, micro=5, releaselevel='final', serial=0)\n"
     ]
    }
   ],
   "source": [
    "#Task#02(Write a Python program to get the Python version you are using)\n",
    "\n",
    "import sys \n",
    "print (\"Python version:\")\n",
    "print (sys.version)\n",
    "print (\"Version information.\")\n",
    "print (sys.version_info)\n"
   ]
  },
  {
   "cell_type": "code",
   "execution_count": 5,
   "metadata": {},
   "outputs": [
    {
     "name": "stdout",
     "output_type": "stream",
     "text": [
      "The Current Date & Time is :\n",
      "05-11-19  03:57:53\n"
     ]
    }
   ],
   "source": [
    "#Task#03(Write a Python program to display the current date and time.)\n",
    "\n",
    "import datetime \n",
    "\n",
    "now = datetime.datetime.now()\n",
    "print (\"The Current Date & Time is :\")\n",
    "print (now.strftime(\"%d-%m-%y  %H:%M:%S\"))"
   ]
  },
  {
   "cell_type": "code",
   "execution_count": 7,
   "metadata": {},
   "outputs": [
    {
     "name": "stdout",
     "output_type": "stream",
     "text": [
      "Plaese enter the radius of the circle:15\n",
      "The Area of circle is : 706.8583470577034\n"
     ]
    }
   ],
   "source": [
    "#Task#04(Write a Python program which accepts the radius of a circle from the user and compute the area.)\n",
    "\n",
    "import math\n",
    "\n",
    "radius = float(input(\"Plaese enter the radius of the circle:\"))\n",
    "area = math.pi * radius * radius\n",
    "print (\"The Area of circle is : {0}\".format(area))"
   ]
  },
  {
   "cell_type": "code",
   "execution_count": 9,
   "metadata": {},
   "outputs": [
    {
     "name": "stdout",
     "output_type": "stream",
     "text": [
      "Please enter your first name :Anique\n",
      "Please enter your last name :Imam\n",
      "Imam Anique\n"
     ]
    }
   ],
   "source": [
    "#Task#05(Write a Python program which accepts the user's first and last name and print them in reverse order with a space between them.)\n",
    "\n",
    "\n",
    "f_name = input (\"Please enter your first name :\")\n",
    "l_name = input (\"Please enter your last name :\")\n",
    "\n",
    "print (l_name + \" \" + f_name)"
   ]
  },
  {
   "cell_type": "code",
   "execution_count": 19,
   "metadata": {},
   "outputs": [
    {
     "name": "stdout",
     "output_type": "stream",
     "text": [
      "Enter 1st value :4\n",
      "Enter 2nd value :5\n",
      "9\n"
     ]
    }
   ],
   "source": [
    "#Task#06(Write a python program which takes two inputs from user and print them addition)\n",
    "\n",
    "a = int(input(\"Enter 1st value :\"))\n",
    "b = int(input(\"Enter 2nd value :\"))\n",
    "print(c)"
   ]
  },
  {
   "cell_type": "code",
   "execution_count": null,
   "metadata": {},
   "outputs": [],
   "source": []
  }
 ],
 "metadata": {
  "kernelspec": {
   "display_name": "Python 3",
   "language": "python",
   "name": "python3"
  },
  "language_info": {
   "codemirror_mode": {
    "name": "ipython",
    "version": 3
   },
   "file_extension": ".py",
   "mimetype": "text/x-python",
   "name": "python",
   "nbconvert_exporter": "python",
   "pygments_lexer": "ipython3",
   "version": "3.6.5"
  }
 },
 "nbformat": 4,
 "nbformat_minor": 2
}
